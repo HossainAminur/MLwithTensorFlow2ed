{
 "cells": [
  {
   "cell_type": "code",
   "execution_count": 30,
   "metadata": {},
   "outputs": [],
   "source": [
    "import numpy as np\n",
    "from bregman.suite import * \n",
    "import tensorflow as tf"
   ]
  },
  {
   "cell_type": "code",
   "execution_count": 31,
   "metadata": {},
   "outputs": [],
   "source": [
    "k = 2\n",
    "max_iterations = 100"
   ]
  },
  {
   "cell_type": "code",
   "execution_count": 32,
   "metadata": {},
   "outputs": [],
   "source": [
    "filenames = tf.train.match_filenames_once('./audio_dataset/*.wav')\n",
    "count_num_files = tf.size(filenames)\n",
    "filename_queue = tf.train.string_input_producer(filenames)\n",
    "reader = tf.WholeFileReader()\n",
    "filename, file_contents = reader.read(filename_queue)\n",
    "chroma = tf.placeholder(tf.float32)\n",
    "max_freqs = tf.argmax(chroma, 0)"
   ]
  },
  {
   "cell_type": "code",
   "execution_count": 33,
   "metadata": {},
   "outputs": [],
   "source": [
    "def get_next_chromagram(sess):\n",
    "    audio_file = sess.run(filename)\n",
    "    F = Chromagram(audio_file, nfft=16384, wfft=8192, nhop=2205)\n",
    "    return F.X"
   ]
  },
  {
   "cell_type": "code",
   "execution_count": 34,
   "metadata": {},
   "outputs": [],
   "source": [
    "def initial_cluster_centroids(X, k):\n",
    "    return X[0:k, :]"
   ]
  },
  {
   "cell_type": "code",
   "execution_count": 35,
   "metadata": {},
   "outputs": [],
   "source": [
    "def assign_cluster(X, centroids):\n",
    "    expanded_vectors = tf.expand_dims(X, 0)\n",
    "    expanded_centroids = tf.expand_dims(centroids, 1)\n",
    "    distances = tf.reduce_sum(tf.square(tf.subtract(expanded_vectors, expanded_centroids)), 2)\n",
    "    mins = tf.argmin(distances, 0)\n",
    "    return mins"
   ]
  },
  {
   "cell_type": "code",
   "execution_count": 36,
   "metadata": {},
   "outputs": [],
   "source": [
    "def recompute_centroids(X, Y):\n",
    "    sums = tf.unsorted_segment_sum(X, Y, k)\n",
    "    counts = tf.unsorted_segment_sum(tf.ones_like(X), Y, k)\n",
    "    return sums / counts"
   ]
  },
  {
   "cell_type": "code",
   "execution_count": 37,
   "metadata": {},
   "outputs": [],
   "source": [
    "def extract_feature_vector(sess, chroma_data):\n",
    "    num_features, num_samples = np.shape(chroma_data)\n",
    "    freq_vals = sess.run(max_freqs, feed_dict={chroma: chroma_data})\n",
    "    hist, bins = np.histogram(freq_vals, bins=range(num_features + 1))\n",
    "    return hist.astype(float) / num_samples"
   ]
  },
  {
   "cell_type": "code",
   "execution_count": 38,
   "metadata": {},
   "outputs": [],
   "source": [
    "def get_dataset(sess):\n",
    "    num_files = sess.run(count_num_files)\n",
    "    coord = tf.train.Coordinator()\n",
    "    threads = tf.train.start_queue_runners(coord=coord)\n",
    "    xs = []\n",
    "    for _ in range(num_files):\n",
    "        chroma_data = get_next_chromagram(sess)\n",
    "        x = [extract_feature_vector(sess, chroma_data)]\n",
    "        x = np.matrix(x)\n",
    "        if len(xs) == 0:\n",
    "            xs = x\n",
    "        else:\n",
    "            xs = np.vstack((xs, x))\n",
    "    return xs"
   ]
  },
  {
   "cell_type": "code",
   "execution_count": 39,
   "metadata": {},
   "outputs": [
    {
     "name": "stdout",
     "output_type": "stream",
     "text": [
      "[[0.16583458 0.05681818 0.06304985 0.02963223 0.13987013 0.17381262\n",
      "  0.1236217  0.07806452 0.03806452 0.04545455 0.06304985 0.02272727]\n",
      " [0.02985075 0.         0.         0.         0.7761194  0.02985075\n",
      "  0.         0.1641791  0.         0.         0.         0.        ]]\n",
      "INFO:tensorflow:Error reported to Coordinator: <class 'tensorflow.python.framework.errors_impl.CancelledError'>, Enqueue operation was cancelled\n",
      "\t [[{{node input_producer_1/input_producer_1_EnqueueMany}}]]\n"
     ]
    }
   ],
   "source": [
    "with tf.Session() as sess:\n",
    "    sess.run(tf.local_variables_initializer())\n",
    "    X = get_dataset(sess)\n",
    "    centroids = initial_cluster_centroids(X, k)\n",
    "    i, converged = 0, False\n",
    "    while not converged and i < max_iterations:\n",
    "        i += 1\n",
    "        Y = assign_cluster(X, centroids)\n",
    "        centroids = sess.run(recompute_centroids(X, Y))\n",
    "    print(centroids)"
   ]
  },
  {
   "cell_type": "code",
   "execution_count": null,
   "metadata": {},
   "outputs": [],
   "source": []
  }
 ],
 "metadata": {
  "kernelspec": {
   "display_name": "Python 2",
   "language": "python",
   "name": "python2"
  },
  "language_info": {
   "codemirror_mode": {
    "name": "ipython",
    "version": 2
   },
   "file_extension": ".py",
   "mimetype": "text/x-python",
   "name": "python",
   "nbconvert_exporter": "python",
   "pygments_lexer": "ipython2",
   "version": "2.7.14"
  }
 },
 "nbformat": 4,
 "nbformat_minor": 2
}
