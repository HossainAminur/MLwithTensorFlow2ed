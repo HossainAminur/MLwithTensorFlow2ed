{
 "cells": [
  {
   "cell_type": "code",
   "execution_count": 4,
   "metadata": {},
   "outputs": [],
   "source": [
    "import tensorflow as tf\n",
    "import numpy as np\n",
    "from sklearn import datasets"
   ]
  },
  {
   "cell_type": "code",
   "execution_count": 8,
   "metadata": {},
   "outputs": [],
   "source": [
    "class Autoencoder:\n",
    "    def __init__(self, input_dim, hidden_dim, epoch=250, learning_rate=0.001):\n",
    "        self.epoch = epoch\n",
    "        self.learning_rate = learning_rate\n",
    "        x = tf.placeholder(dtype=tf.float32, shape=[None, input_dim])\n",
    "        with tf.name_scope('encode'):\n",
    "            weights = tf.Variable(tf.random_normal([input_dim, hidden_dim], dtype=tf.float32), name='weights')\n",
    "            biases = tf.Variable(tf.zeros([hidden_dim]), name='biases')\n",
    "            encoded = tf.nn.tanh(tf.matmul(x, weights) + biases)\n",
    "        with tf.name_scope('decode'):\n",
    "            weights = tf.Variable(tf.random_normal([hidden_dim, input_dim], dtype=tf.float32), name='weights')\n",
    "            biases = tf.Variable(tf.zeros([input_dim]), name='biases')\n",
    "            decoded = tf.matmul(encoded, weights) + biases\n",
    "        \n",
    "        self.x = x\n",
    "        self.encoded = encoded\n",
    "        self.decoded = decoded\n",
    "        self.loss = tf.sqrt(tf.reduce_mean(tf.square(tf.subtract(self.x, self.decoded))))\n",
    "        self.train_op = tf.train.RMSPropOptimizer(self.learning_rate).minimize(self.loss)\n",
    "        self.saver = tf.train.Saver()\n",
    "        \n",
    "    def train(self, data):\n",
    "        num_samples = len(data)\n",
    "        with tf.Session() as sess:\n",
    "            sess.run(tf.global_variables_initializer())\n",
    "            for i in range(self.epoch):\n",
    "                for j in range(num_samples):\n",
    "                    l, _ = sess.run([self.loss, self.train_op], feed_dict={self.x: [data[j]]})\n",
    "                if i % 10 == 0:\n",
    "                    print('epoch {0}: loss = {1}'.format(i, l))\n",
    "                    self.saver.save(sess, './model.ckpt')\n",
    "            self.saver.save(sess, './model.ckpt')\n",
    "            \n",
    "    def test(self, data): \n",
    "        with tf.Session() as sess:\n",
    "            self.saver.restore(sess, './model.ckpt')\n",
    "            hidden, reconstructed = sess.run([self.encoded, self.decoded], feed_dict={self.x: data})\n",
    "        print('input', data)\n",
    "        print('compressed', hidden)\n",
    "        print('reconstructed', reconstructed)\n",
    "        return reconstructed"
   ]
  },
  {
   "cell_type": "code",
   "execution_count": 9,
   "metadata": {},
   "outputs": [
    {
     "name": "stdout",
     "output_type": "stream",
     "text": [
      "epoch 0: loss = 4.369318962097168\n",
      "epoch 10: loss = 2.169266939163208\n",
      "epoch 20: loss = 0.8587356805801392\n",
      "epoch 30: loss = 0.48485732078552246\n",
      "epoch 40: loss = 0.4050009250640869\n",
      "epoch 50: loss = 0.3527829051017761\n",
      "epoch 60: loss = 0.37775668501853943\n",
      "epoch 70: loss = 0.36224353313446045\n",
      "epoch 80: loss = 0.3371433913707733\n",
      "epoch 90: loss = 0.3158784508705139\n",
      "epoch 100: loss = 0.2993887960910797\n",
      "epoch 110: loss = 0.28548192977905273\n",
      "epoch 120: loss = 0.273779034614563\n",
      "epoch 130: loss = 0.2636253237724304\n",
      "epoch 140: loss = 0.2533580958843231\n",
      "epoch 150: loss = 0.24338755011558533\n",
      "epoch 160: loss = 0.23540864884853363\n",
      "epoch 170: loss = 0.2301664501428604\n",
      "epoch 180: loss = 0.22702421247959137\n",
      "epoch 190: loss = 0.22504909336566925\n",
      "epoch 200: loss = 0.22371362149715424\n",
      "epoch 210: loss = 0.22278685867786407\n",
      "epoch 220: loss = 0.22214512526988983\n",
      "epoch 230: loss = 0.22169719636440277\n",
      "epoch 240: loss = 0.22139035165309906\n",
      "WARNING:tensorflow:From /Users/mattmann/git/buildout.python/python-3.7/lib/python3.7/site-packages/tensorflow/python/training/saver.py:1266: checkpoint_exists (from tensorflow.python.training.checkpoint_management) is deprecated and will be removed in a future version.\n",
      "Instructions for updating:\n",
      "Use standard file APIs to check for files with this prefix.\n",
      "INFO:tensorflow:Restoring parameters from ./model.ckpt\n",
      "input [[8, 4, 6, 2]]\n",
      "compressed [[0.71082115]]\n",
      "reconstructed [[6.678357  2.7899783 5.973237  2.111731 ]]\n"
     ]
    },
    {
     "data": {
      "text/plain": [
       "array([[6.678357 , 2.7899783, 5.973237 , 2.111731 ]], dtype=float32)"
      ]
     },
     "execution_count": 9,
     "metadata": {},
     "output_type": "execute_result"
    }
   ],
   "source": [
    "hidden_dim = 1\n",
    "data = datasets.load_iris().data\n",
    "input_dim = len(data[0])\n",
    "ae = Autoencoder(input_dim, hidden_dim)\n",
    "ae.train(data)\n",
    "ae.test([[8, 4, 6, 2]])"
   ]
  },
  {
   "cell_type": "code",
   "execution_count": null,
   "metadata": {},
   "outputs": [],
   "source": []
  }
 ],
 "metadata": {
  "kernelspec": {
   "display_name": "Python 3",
   "language": "python",
   "name": "python3"
  },
  "language_info": {
   "codemirror_mode": {
    "name": "ipython",
    "version": 3
   },
   "file_extension": ".py",
   "mimetype": "text/x-python",
   "name": "python",
   "nbconvert_exporter": "python",
   "pygments_lexer": "ipython3",
   "version": "3.7.0b1"
  }
 },
 "nbformat": 4,
 "nbformat_minor": 2
}
