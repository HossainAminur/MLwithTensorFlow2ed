{
 "cells": [
  {
   "cell_type": "code",
   "execution_count": 1,
   "metadata": {},
   "outputs": [],
   "source": [
    "import csv\n",
    "import time"
   ]
  },
  {
   "cell_type": "code",
   "execution_count": 2,
   "metadata": {},
   "outputs": [],
   "source": [
    "def read(filename, date_idx, date_parse, year, bucket=7):\n",
    "    days_in_year = 365\n",
    "    \n",
    "    freq = {}\n",
    "    for period in range(0, int(days_in_year / bucket)):\n",
    "        freq[period] = 0\n",
    "        \n",
    "    with open(filename, 'r') as csvfile:\n",
    "        csvreader = csv.reader(csvfile)\n",
    "        next(csvreader)\n",
    "        for row in csvreader:\n",
    "            if row[date_idx] == '':\n",
    "                continue\n",
    "            \n",
    "            t = time.strptime(row[date_idx], date_parse)\n",
    "            if t.tm_year == year and t.tm_yday < (days_in_year-1):\n",
    "                freq[int(t.tm_yday / bucket)] += 1\n",
    "    \n",
    "    return freq\n"
   ]
  },
  {
   "cell_type": "code",
   "execution_count": 3,
   "metadata": {},
   "outputs": [],
   "source": [
    "freq = read('311.csv', 1, '%m/%d/%Y %H:%M:%S %p', 2014)"
   ]
  },
  {
   "cell_type": "code",
   "execution_count": 4,
   "metadata": {},
   "outputs": [
    {
     "data": {
      "text/plain": [
       "{0: 0,\n",
       " 1: 0,\n",
       " 2: 0,\n",
       " 3: 0,\n",
       " 4: 0,\n",
       " 5: 0,\n",
       " 6: 0,\n",
       " 7: 0,\n",
       " 8: 0,\n",
       " 9: 0,\n",
       " 10: 0,\n",
       " 11: 0,\n",
       " 12: 0,\n",
       " 13: 0,\n",
       " 14: 0,\n",
       " 15: 0,\n",
       " 16: 0,\n",
       " 17: 0,\n",
       " 18: 0,\n",
       " 19: 0,\n",
       " 20: 0,\n",
       " 21: 10889,\n",
       " 22: 40240,\n",
       " 23: 42125,\n",
       " 24: 42673,\n",
       " 25: 41721,\n",
       " 26: 38446,\n",
       " 27: 41915,\n",
       " 28: 41008,\n",
       " 29: 39011,\n",
       " 30: 36069,\n",
       " 31: 38821,\n",
       " 32: 37050,\n",
       " 33: 36967,\n",
       " 34: 26834,\n",
       " 35: 0,\n",
       " 36: 0,\n",
       " 37: 0,\n",
       " 38: 0,\n",
       " 39: 0,\n",
       " 40: 0,\n",
       " 41: 0,\n",
       " 42: 0,\n",
       " 43: 0,\n",
       " 44: 0,\n",
       " 45: 0,\n",
       " 46: 0,\n",
       " 47: 0,\n",
       " 48: 0,\n",
       " 49: 0,\n",
       " 50: 0,\n",
       " 51: 0}"
      ]
     },
     "execution_count": 4,
     "metadata": {},
     "output_type": "execute_result"
    }
   ],
   "source": [
    "freq"
   ]
  },
  {
   "cell_type": "code",
   "execution_count": 6,
   "metadata": {},
   "outputs": [
    {
     "name": "stdout",
     "output_type": "stream",
     "text": [
      "Num samples 52\n"
     ]
    },
    {
     "data": {
      "image/png": "[encoded data removed]",
      "text/plain": [
       "<Figure size 432x288 with 1 Axes>"
      ]
     },
     "metadata": {
      "needs_background": "light"
     },
     "output_type": "display_data"
    }
   ],
   "source": [
    "import numpy as np\n",
    "import matplotlib.pyplot as plt\n",
    "import tensorflow as tf\n",
    "\n",
    "X_train = np.asarray(list(freq.keys()))\n",
    "Y_train = np.asarray(list(freq.values()))\n",
    "print(\"Num samples\", str(len(X_train)))\n",
    "maxY = np.max(Y_train)\n",
    "nY_train = Y_train / np.max(Y_train)\n",
    "\n",
    "plt.scatter(X_train, nY_train)\n",
    "plt.show()"
   ]
  },
  {
   "cell_type": "code",
   "execution_count": 41,
   "metadata": {},
   "outputs": [],
   "source": [
    "#learning_rate = 0.001\n",
    "learning_rate = 1.5\n",
    "training_epochs = 1000\n",
    "\n",
    "X = tf.placeholder(tf.float32)\n",
    "Y = tf.placeholder(tf.float32)\n",
    "\n",
    "def model(X, mu, sig):\n",
    "    return tf.exp(tf.div(tf.negative(tf.pow(tf.subtract(X, mu), 2.)), tf.multiply(2., tf.pow(sig, 2.))))\n",
    "\n",
    "mu = tf.Variable(1., name=\"mu\")\n",
    "sig = tf.Variable(1., name=\"sig\")\n",
    "y_model = model(X, mu, sig)"
   ]
  },
  {
   "cell_type": "code",
   "execution_count": 42,
   "metadata": {},
   "outputs": [],
   "source": [
    "cost = tf.square(Y-y_model)\n",
    "train_op = tf.train.GradientDescentOptimizer(learning_rate).minimize(cost)"
   ]
  },
  {
   "cell_type": "code",
   "execution_count": 43,
   "metadata": {},
   "outputs": [],
   "source": [
    "sess = tf.Session()\n",
    "init = tf.global_variables_initializer()\n",
    "sess.run(init)"
   ]
  },
  {
   "cell_type": "code",
   "execution_count": 44,
   "metadata": {},
   "outputs": [],
   "source": [
    "for epoch in range(training_epochs):\n",
    "    for(x, y) in zip(X_train, nY_train):\n",
    "        sess.run(train_op, feed_dict={X:x, Y:y})"
   ]
  },
  {
   "cell_type": "code",
   "execution_count": 45,
   "metadata": {},
   "outputs": [],
   "source": [
    "mu_val = sess.run(mu)\n",
    "sig_val = sess.run(sig)"
   ]
  },
  {
   "cell_type": "code",
   "execution_count": 46,
   "metadata": {},
   "outputs": [
    {
     "name": "stdout",
     "output_type": "stream",
     "text": [
      "27.232365\n",
      "4.9030166\n"
     ]
    }
   ],
   "source": [
    "print(mu_val)\n",
    "print(sig_val)"
   ]
  },
  {
   "cell_type": "code",
   "execution_count": 47,
   "metadata": {},
   "outputs": [],
   "source": [
    "sess.close()"
   ]
  },
  {
   "cell_type": "code",
   "execution_count": 48,
   "metadata": {},
   "outputs": [
    {
     "data": {
      "image/png": "[encoded data removed]",
      "text/plain": [
       "<Figure size 432x288 with 1 Axes>"
      ]
     },
     "metadata": {
      "needs_background": "light"
     },
     "output_type": "display_data"
    },
    {
     "name": "stdout",
     "output_type": "stream",
     "text": [
      "Prediction of week 35 21363.278811768592\n",
      "Actual week 35 36967\n"
     ]
    }
   ],
   "source": [
    "plt.scatter(X_train, Y_train)\n",
    "trY2 = maxY * (np.exp(-np.power(X_train - mu_val, 2.) / (2 * np.power(sig_val, 2.))))\n",
    "plt.plot(X_train, trY2, 'r')\n",
    "plt.show()\n",
    "print(\"Prediction of week 35\", trY2[33])\n",
    "print(\"Actual week 35\", Y_train[33])"
   ]
  },
  {
   "cell_type": "code",
   "execution_count": 49,
   "metadata": {},
   "outputs": [
    {
     "data": {
      "image/png": "[encoded data removed]",
      "text/plain": [
       "<Figure size 432x288 with 1 Axes>"
      ]
     },
     "metadata": {
      "needs_background": "light"
     },
     "output_type": "display_data"
    }
   ],
   "source": [
    "# plot the error\n",
    "error = np.power(np.power(trY2 - Y_train, 2), 0.5)\n",
    "#print(error)\n",
    "plt.bar(X_train, error)\n",
    "plt.show()"
   ]
  },
  {
   "cell_type": "code",
   "execution_count": 15,
   "metadata": {},
   "outputs": [
    {
     "data": {
      "image/png": "[encoded data removed]",
      "text/plain": [
       "<Figure size 432x288 with 1 Axes>"
      ]
     },
     "metadata": {
      "needs_background": "light"
     },
     "output_type": "display_data"
    }
   ],
   "source": [
    "def gaussian(x, mu, sig):\n",
    "    return np.exp(-np.power(x - mu, 2.) / (2 * np.power(sig, 2.)))\n",
    "x_values = np.linspace(-3, 3, 120)\n",
    "for mu, sig in [(-1, 1), (0, 2), (2, 3)]:\n",
    "    plt.plot(x_values, gaussian(x_values, mu, sig))\n",
    "\n",
    "plt.show()"
   ]
  },
  {
   "cell_type": "markdown",
   "metadata": {},
   "source": [
    "# Try a polynomial model\n",
    "We'll try a polynomial model now just to see."
   ]
  },
  {
   "cell_type": "code",
   "execution_count": 16,
   "metadata": {},
   "outputs": [],
   "source": [
    "learning_rate = 0.01\n",
    "training_epochs = 40\n",
    "\n",
    "#num_coeffs = 6\n",
    "num_coeffs = 2\n",
    "#trY_coeffs = [1, 2, 3, 4, 5, 6]\n",
    "trY_coeffs = [1, 2]\n",
    "\n",
    "X = tf.placeholder(tf.float32)\n",
    "Y = tf.placeholder(tf.float32)\n",
    "\n",
    "def model(X, w):\n",
    "    terms = []\n",
    "    for i in range(num_coeffs):\n",
    "        term = tf.multiply(w[i], tf.pow(X, i))\n",
    "        terms.append(term)\n",
    "    return tf.add_n(terms)"
   ]
  },
  {
   "cell_type": "code",
   "execution_count": 17,
   "metadata": {},
   "outputs": [],
   "source": [
    "w = tf.Variable([0.] * num_coeffs, name=\"parameters\")\n",
    "y_model = model(X, w)\n",
    "cost = (tf.pow(Y-y_model, 2))"
   ]
  },
  {
   "cell_type": "code",
   "execution_count": 18,
   "metadata": {},
   "outputs": [],
   "source": [
    "train_op = tf.train.GradientDescentOptimizer(learning_rate).minimize(cost)"
   ]
  },
  {
   "cell_type": "code",
   "execution_count": 19,
   "metadata": {},
   "outputs": [],
   "source": [
    "sess = tf.Session()\n",
    "init = tf.global_variables_initializer()\n",
    "sess.run(init)"
   ]
  },
  {
   "cell_type": "code",
   "execution_count": 20,
   "metadata": {},
   "outputs": [],
   "source": [
    "for epoch in range(training_epochs):\n",
    "    for(x, y) in zip(X_train, Y_train):\n",
    "        sess.run(train_op, feed_dict={X:x, Y:y})"
   ]
  },
  {
   "cell_type": "code",
   "execution_count": 21,
   "metadata": {},
   "outputs": [
    {
     "name": "stdout",
     "output_type": "stream",
     "text": [
      "[nan nan]\n"
     ]
    }
   ],
   "source": [
    "w_val = sess.run(w)\n",
    "print(w_val)"
   ]
  },
  {
   "cell_type": "code",
   "execution_count": 22,
   "metadata": {},
   "outputs": [],
   "source": [
    "sess.close()"
   ]
  },
  {
   "cell_type": "code",
   "execution_count": 23,
   "metadata": {},
   "outputs": [
    {
     "data": {
      "image/png": "[encoded data removed]",
      "text/plain": [
       "<Figure size 432x288 with 1 Axes>"
      ]
     },
     "metadata": {
      "needs_background": "light"
     },
     "output_type": "display_data"
    }
   ],
   "source": [
    "plt.scatter(X_train, Y_train)\n",
    "trY2 = 0\n",
    "for i in range(num_coeffs):\n",
    "    trY2 += w_val[i] * np.power(X_train, i)\n",
    "plt.plot(X_train, trY2, 'r')\n",
    "plt.show()"
   ]
  },
  {
   "cell_type": "markdown",
   "metadata": {},
   "source": [
    "# Use Regularization\n",
    "We'll use regularlization and .7 / .3 train/test split to see if it helps."
   ]
  },
  {
   "cell_type": "code",
   "execution_count": 24,
   "metadata": {},
   "outputs": [],
   "source": [
    "def split_dataset(x_dataset, y_dataset, ratio):\n",
    "    arr = np.arange(x_dataset.size)\n",
    "    np.random.shuffle(arr)\n",
    "    num_train = int(ratio * x_dataset.size)\n",
    "    x_train = x_dataset[arr[0:num_train]]\n",
    "    x_test = x_dataset[arr[num_train:x_dataset.size]]\n",
    "    y_train = y_dataset[arr[0:num_train]]\n",
    "    y_test = y_dataset[arr[num_train:x_dataset.size]]\n",
    "    return x_train, x_test, y_train, y_test"
   ]
  },
  {
   "cell_type": "code",
   "execution_count": 25,
   "metadata": {},
   "outputs": [
    {
     "data": {
      "image/png": "[encoded data removed]",
      "text/plain": [
       "<Figure size 432x288 with 1 Axes>"
      ]
     },
     "metadata": {
      "needs_background": "light"
     },
     "output_type": "display_data"
    }
   ],
   "source": [
    "(x_train, x_test, y_train, y_test) = split_dataset(X_train, nY_train, 0.7)\n",
    "plt.scatter(x_train, y_train)\n",
    "plt.show()"
   ]
  },
  {
   "cell_type": "code",
   "execution_count": 26,
   "metadata": {},
   "outputs": [
    {
     "data": {
      "image/png": "[encoded data removed]",
      "text/plain": [
       "<Figure size 432x288 with 1 Axes>"
      ]
     },
     "metadata": {
      "needs_background": "light"
     },
     "output_type": "display_data"
    }
   ],
   "source": [
    "plt.scatter(x_test, y_test)\n",
    "plt.show()"
   ]
  },
  {
   "cell_type": "code",
   "execution_count": 27,
   "metadata": {},
   "outputs": [],
   "source": [
    "X = tf.placeholder(tf.float32)\n",
    "Y = tf.placeholder(tf.float32)"
   ]
  },
  {
   "cell_type": "code",
   "execution_count": 28,
   "metadata": {},
   "outputs": [],
   "source": [
    "def model(X, mu, sig):\n",
    "    return tf.exp(tf.div(tf.negative(tf.pow(tf.subtract(X, mu), 2.)), tf.multiply(2., tf.pow(sig, 2.))))\n",
    "\n",
    "mu = tf.Variable(1., name=\"mu\")\n",
    "sig = tf.Variable(1., name=\"sig\")\n",
    "y_model = model(X, mu, sig)"
   ]
  },
  {
   "cell_type": "code",
   "execution_count": 29,
   "metadata": {},
   "outputs": [],
   "source": [
    "reg_lambda = 0.\n",
    "cost = tf.div(tf.add(tf.reduce_sum(tf.square(Y-y_model)),\n",
    "                     tf.multiply(reg_lambda, tf.reduce_sum(tf.square([mu, sig])))), 2*x_train.size)"
   ]
  },
  {
   "cell_type": "code",
   "execution_count": 30,
   "metadata": {},
   "outputs": [
    {
     "name": "stdout",
     "output_type": "stream",
     "text": [
      "WARNING:tensorflow:From /Users/mattmann/git/buildout.python/python-3.7/lib/python3.7/site-packages/tensorflow/python/ops/math_ops.py:3066: to_int32 (from tensorflow.python.ops.math_ops) is deprecated and will be removed in a future version.\n",
      "Instructions for updating:\n",
      "Use tf.cast instead.\n"
     ]
    }
   ],
   "source": [
    "learning_rate = 1.5\n",
    "training_epochs = 5000\n",
    "train_op = tf.train.GradientDescentOptimizer(learning_rate).minimize(cost)"
   ]
  },
  {
   "cell_type": "code",
   "execution_count": 31,
   "metadata": {},
   "outputs": [],
   "source": [
    "mu_hist = tf.summary.scalar(\"mu\", mu)\n",
    "learning_rate = tf.summary.scalar(\"learning_rate\", learning_rate)\n",
    "sig_hist = tf.summary.scalar(\"sig\", sig)\n",
    "reg_lambda_hist = tf.summary.scalar(\"reg_lambda\", reg_lambda)\n",
    "cost_hist = tf.summary.scalar(\"cost_history\", cost)\n",
    "merged = tf.summary.merge_all()\n",
    "writer = tf.summary.FileWriter(\"./logs\")"
   ]
  },
  {
   "cell_type": "code",
   "execution_count": 32,
   "metadata": {},
   "outputs": [],
   "source": [
    "sess = tf.Session()\n",
    "init = tf.global_variables_initializer()\n",
    "sess.run(init)\n",
    "writer.add_graph(sess.graph)"
   ]
  },
  {
   "cell_type": "code",
   "execution_count": 33,
   "metadata": {},
   "outputs": [
    {
     "name": "stdout",
     "output_type": "stream",
     "text": [
      "reg lambda 0.0\n",
      "final cost 0.06452212\n",
      "reg lambda 0.010101010101010102\n",
      "final cost 0.06452211\n",
      "reg lambda 0.020202020202020204\n",
      "final cost 0.06452211\n",
      "reg lambda 0.030303030303030304\n",
      "final cost 0.0645221\n",
      "reg lambda 0.04040404040404041\n",
      "final cost 0.064522095\n",
      "reg lambda 0.05050505050505051\n",
      "final cost 0.064522095\n",
      "reg lambda 0.06060606060606061\n",
      "final cost 0.064522095\n",
      "reg lambda 0.07070707070707072\n",
      "final cost 0.064522095\n",
      "reg lambda 0.08080808080808081\n",
      "final cost 0.064522095\n",
      "reg lambda 0.09090909090909091\n",
      "final cost 0.064522095\n",
      "reg lambda 0.10101010101010102\n",
      "final cost 0.06452209\n",
      "reg lambda 0.11111111111111112\n",
      "final cost 0.06452209\n",
      "reg lambda 0.12121212121212122\n",
      "final cost 0.06452209\n",
      "reg lambda 0.13131313131313133\n",
      "final cost 0.06452209\n",
      "reg lambda 0.14141414141414144\n",
      "final cost 0.06452208\n",
      "reg lambda 0.15151515151515152\n",
      "final cost 0.06452208\n",
      "reg lambda 0.16161616161616163\n",
      "final cost 0.06452208\n",
      "reg lambda 0.17171717171717174\n",
      "final cost 0.06452208\n",
      "reg lambda 0.18181818181818182\n",
      "final cost 0.06452208\n",
      "reg lambda 0.19191919191919193\n",
      "final cost 0.06452208\n",
      "reg lambda 0.20202020202020204\n",
      "final cost 0.06452208\n",
      "reg lambda 0.21212121212121213\n",
      "final cost 0.06452208\n",
      "reg lambda 0.22222222222222224\n",
      "final cost 0.06452208\n",
      "reg lambda 0.23232323232323235\n",
      "final cost 0.06452208\n",
      "reg lambda 0.24242424242424243\n",
      "final cost 0.06452208\n",
      "reg lambda 0.25252525252525254\n",
      "final cost 0.06452208\n",
      "reg lambda 0.26262626262626265\n",
      "final cost 0.06452208\n",
      "reg lambda 0.27272727272727276\n",
      "final cost 0.06452208\n",
      "reg lambda 0.2828282828282829\n",
      "final cost 0.06452208\n",
      "reg lambda 0.29292929292929293\n",
      "final cost 0.06452208\n",
      "reg lambda 0.30303030303030304\n",
      "final cost 0.06452208\n",
      "reg lambda 0.31313131313131315\n",
      "final cost 0.06452208\n",
      "reg lambda 0.32323232323232326\n",
      "final cost 0.06452208\n",
      "reg lambda 0.33333333333333337\n",
      "final cost 0.06452208\n",
      "reg lambda 0.3434343434343435\n",
      "final cost 0.06452208\n",
      "reg lambda 0.3535353535353536\n",
      "final cost 0.06452208\n",
      "reg lambda 0.36363636363636365\n",
      "final cost 0.06452208\n",
      "reg lambda 0.37373737373737376\n",
      "final cost 0.06452208\n",
      "reg lambda 0.38383838383838387\n",
      "final cost 0.06452208\n",
      "reg lambda 0.393939393939394\n",
      "final cost 0.06452207\n",
      "reg lambda 0.4040404040404041\n",
      "final cost 0.06452207\n",
      "reg lambda 0.4141414141414142\n",
      "final cost 0.06452207\n",
      "reg lambda 0.42424242424242425\n",
      "final cost 0.06452207\n",
      "reg lambda 0.43434343434343436\n",
      "final cost 0.06452207\n",
      "reg lambda 0.4444444444444445\n",
      "final cost 0.06452207\n",
      "reg lambda 0.4545454545454546\n",
      "final cost 0.06452207\n",
      "reg lambda 0.4646464646464647\n",
      "final cost 0.06452207\n",
      "reg lambda 0.4747474747474748\n",
      "final cost 0.06452207\n",
      "reg lambda 0.48484848484848486\n",
      "final cost 0.06452207\n",
      "reg lambda 0.494949494949495\n",
      "final cost 0.06452207\n",
      "reg lambda 0.5050505050505051\n",
      "final cost 0.06452207\n",
      "reg lambda 0.5151515151515152\n",
      "final cost 0.06452207\n",
      "reg lambda 0.5252525252525253\n",
      "final cost 0.06452207\n",
      "reg lambda 0.5353535353535354\n",
      "final cost 0.06452207\n",
      "reg lambda 0.5454545454545455\n",
      "final cost 0.06452207\n",
      "reg lambda 0.5555555555555556\n",
      "final cost 0.064522065\n",
      "reg lambda 0.5656565656565657\n",
      "final cost 0.064522065\n",
      "reg lambda 0.5757575757575758\n",
      "final cost 0.064522065\n",
      "reg lambda 0.5858585858585859\n",
      "final cost 0.064522065\n",
      "reg lambda 0.595959595959596\n",
      "final cost 0.064522065\n",
      "reg lambda 0.6060606060606061\n",
      "final cost 0.064522065\n",
      "reg lambda 0.6161616161616162\n",
      "final cost 0.064522065\n",
      "reg lambda 0.6262626262626263\n",
      "final cost 0.064522065\n",
      "reg lambda 0.6363636363636365\n",
      "final cost 0.064522065\n",
      "reg lambda 0.6464646464646465\n",
      "final cost 0.064522065\n",
      "reg lambda 0.6565656565656566\n",
      "final cost 0.064522065\n",
      "reg lambda 0.6666666666666667\n",
      "final cost 0.064522065\n",
      "reg lambda 0.6767676767676768\n",
      "final cost 0.064522065\n",
      "reg lambda 0.686868686868687\n",
      "final cost 0.064522065\n",
      "reg lambda 0.696969696969697\n",
      "final cost 0.064522065\n",
      "reg lambda 0.7070707070707072\n",
      "final cost 0.064522065\n",
      "reg lambda 0.7171717171717172\n",
      "final cost 0.064522065\n",
      "reg lambda 0.7272727272727273\n",
      "final cost 0.064522065\n",
      "reg lambda 0.7373737373737375\n",
      "final cost 0.064522065\n",
      "reg lambda 0.7474747474747475\n",
      "final cost 0.064522065\n",
      "reg lambda 0.7575757575757577\n",
      "final cost 0.064522065\n",
      "reg lambda 0.7676767676767677\n",
      "final cost 0.064522065\n",
      "reg lambda 0.7777777777777778\n",
      "final cost 0.064522065\n",
      "reg lambda 0.787878787878788\n",
      "final cost 0.064522065\n",
      "reg lambda 0.797979797979798\n",
      "final cost 0.064522065\n",
      "reg lambda 0.8080808080808082\n",
      "final cost 0.064522065\n",
      "reg lambda 0.8181818181818182\n",
      "final cost 0.064522065\n",
      "reg lambda 0.8282828282828284\n",
      "final cost 0.064522065\n",
      "reg lambda 0.8383838383838385\n",
      "final cost 0.064522065\n",
      "reg lambda 0.8484848484848485\n",
      "final cost 0.064522065\n",
      "reg lambda 0.8585858585858587\n",
      "final cost 0.064522065\n",
      "reg lambda 0.8686868686868687\n",
      "final cost 0.064522065\n",
      "reg lambda 0.8787878787878789\n",
      "final cost 0.064522065\n",
      "reg lambda 0.888888888888889\n",
      "final cost 0.064522065\n",
      "reg lambda 0.8989898989898991\n",
      "final cost 0.064522065\n",
      "reg lambda 0.9090909090909092\n",
      "final cost 0.064522065\n",
      "reg lambda 0.9191919191919192\n",
      "final cost 0.064522065\n",
      "reg lambda 0.9292929292929294\n",
      "final cost 0.064522065\n",
      "reg lambda 0.9393939393939394\n",
      "final cost 0.064522065\n",
      "reg lambda 0.9494949494949496\n",
      "final cost 0.064522065\n",
      "reg lambda 0.9595959595959597\n",
      "final cost 0.064522065\n",
      "reg lambda 0.9696969696969697\n",
      "final cost 0.064522065\n",
      "reg lambda 0.9797979797979799\n",
      "final cost 0.064522065\n",
      "reg lambda 0.98989898989899\n",
      "final cost 0.064522065\n",
      "reg lambda 1.0\n",
      "final cost 0.064522065\n"
     ]
    }
   ],
   "source": [
    "for reg_lambda in np.linspace(0, 1, 100):\n",
    "    for epoch in range(training_epochs):\n",
    "        summary_str,tOp = sess.run([merged,train_op], feed_dict = {X: x_train, Y: y_train})\n",
    "        writer.add_summary(summary_str, epoch)\n",
    "    final_cost = sess.run(cost, feed_dict = {X: x_test, Y: y_test})\n",
    "    print('reg lambda', reg_lambda)\n",
    "    print('final cost', final_cost)"
   ]
  },
  {
   "cell_type": "code",
   "execution_count": 34,
   "metadata": {},
   "outputs": [],
   "source": [
    "mu_val = sess.run(mu)\n",
    "sig_val = sess.run(sig)"
   ]
  },
  {
   "cell_type": "code",
   "execution_count": 35,
   "metadata": {},
   "outputs": [
    {
     "name": "stdout",
     "output_type": "stream",
     "text": [
      "0.9992233\n",
      "0.22296421\n"
     ]
    }
   ],
   "source": [
    "print(mu_val)\n",
    "print(sig_val)"
   ]
  },
  {
   "cell_type": "code",
   "execution_count": 36,
   "metadata": {},
   "outputs": [],
   "source": [
    "sess.close()"
   ]
  },
  {
   "cell_type": "code",
   "execution_count": 38,
   "metadata": {},
   "outputs": [
    {
     "data": {
      "image/png": "[encoded data removed]",
      "text/plain": [
       "<Figure size 432x288 with 1 Axes>"
      ]
     },
     "metadata": {
      "needs_background": "light"
     },
     "output_type": "display_data"
    },
    {
     "name": "stdout",
     "output_type": "stream",
     "text": [
      "Prediction of week 35 0.0\n",
      "Actual week 35 36967\n"
     ]
    }
   ],
   "source": [
    "plt.scatter(X_train, Y_train)\n",
    "trY2 = maxY * (np.exp(-np.power(X_train - mu_val, 2.) / (2 * np.power(sig_val, 2.))))\n",
    "plt.plot(X_train, trY2, 'r')\n",
    "plt.show()\n",
    "print(\"Prediction of week 35\", trY2[33])\n",
    "print(\"Actual week 35\", Y_train[33])"
   ]
  },
  {
   "cell_type": "code",
   "execution_count": 39,
   "metadata": {},
   "outputs": [
    {
     "data": {
      "image/png": "[encoded data removed]",
      "text/plain": [
       "<Figure size 432x288 with 1 Axes>"
      ]
     },
     "metadata": {
      "needs_background": "light"
     },
     "output_type": "display_data"
    }
   ],
   "source": [
    "# plot the error\n",
    "error = np.power(np.power(trY2 - Y_train, 2), 0.5)\n",
    "#print(error)\n",
    "plt.bar(X_train, error)\n",
    "plt.show()"
   ]
  },
  {
   "cell_type": "code",
   "execution_count": null,
   "metadata": {},
   "outputs": [],
   "source": []
  }
 ],
 "metadata": {
  "kernelspec": {
   "display_name": "Python 3",
   "language": "python",
   "name": "python3"
  },
  "language_info": {
   "codemirror_mode": {
    "name": "ipython",
    "version": 3
   },
   "file_extension": ".py",
   "mimetype": "text/x-python",
   "name": "python",
   "nbconvert_exporter": "python",
   "pygments_lexer": "ipython3",
   "version": "3.7.0b1"
  }
 },
 "nbformat": 4,
 "nbformat_minor": 2
}
