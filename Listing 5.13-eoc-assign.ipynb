{
 "cells": [
  {
   "cell_type": "code",
   "execution_count": 5,
   "metadata": {},
   "outputs": [],
   "source": [
    "import numpy as np\n",
    "import tensorflow as tf\n",
    "import matplotlib.pyplot as plt\n",
    "import pandas as pd"
   ]
  },
  {
   "cell_type": "code",
   "execution_count": 6,
   "metadata": {},
   "outputs": [],
   "source": [
    "filenames = tf.train.match_filenames_once('./User Identification From Walking Activity/*.csv')\n",
    "count_num_files = tf.size(filenames)\n",
    "filename_queue = tf.train.string_input_producer(filenames)\n",
    "reader = tf.WholeFileReader()\n",
    "filename, file_contents = reader.read(filename_queue)"
   ]
  },
  {
   "cell_type": "code",
   "execution_count": 16,
   "metadata": {},
   "outputs": [
    {
     "name": "stdout",
     "output_type": "stream",
     "text": [
      "./User Identification From Walking Activity/4.csv\n",
      "./User Identification From Walking Activity/18.csv\n",
      "./User Identification From Walking Activity/11.csv\n",
      "./User Identification From Walking Activity/15.csv\n",
      "./User Identification From Walking Activity/7.csv\n",
      "./User Identification From Walking Activity/20.csv\n",
      "./User Identification From Walking Activity/8.csv\n",
      "./User Identification From Walking Activity/13.csv\n",
      "./User Identification From Walking Activity/12.csv\n",
      "./User Identification From Walking Activity/17.csv\n",
      "./User Identification From Walking Activity/3.csv\n",
      "./User Identification From Walking Activity/6.csv\n",
      "./User Identification From Walking Activity/16.csv\n",
      "./User Identification From Walking Activity/21.csv\n",
      "./User Identification From Walking Activity/5.csv\n",
      "./User Identification From Walking Activity/22.csv\n",
      "./User Identification From Walking Activity/2.csv\n",
      "./User Identification From Walking Activity/9.csv\n",
      "./User Identification From Walking Activity/1.csv\n",
      "./User Identification From Walking Activity/10.csv\n",
      "./User Identification From Walking Activity/19.csv\n",
      "./User Identification From Walking Activity/14.csv\n",
      "INFO:tensorflow:Error reported to Coordinator: <class 'tensorflow.python.framework.errors_impl.CancelledError'>, Enqueue operation was cancelled\n",
      "\t [[{{node input_producer_1/input_producer_1_EnqueueMany}}]]\n"
     ]
    }
   ],
   "source": [
    "with tf.Session() as sess:\n",
    "    sess.run(tf.local_variables_initializer()) \n",
    "    num_files = sess.run(count_num_files)\n",
    "    \n",
    "    coord = tf.train.Coordinator()\n",
    "    threads = tf.train.start_queue_runners(coord=coord)\n",
    "    accel_files = []\n",
    "    \n",
    "    for i in range(num_files):\n",
    "        accel_file = sess.run(filename)\n",
    "        accel_file_frame = pd.read_csv(accel_file, header=None, sep=',', \n",
    "                  names = [\"Time\", \"XPos\", \"YPos\", \"ZPos\"])\n",
    "        accel_files.append(accel_file_frame)\n",
    "        \n",
    "        print(accel_file)"
   ]
  },
  {
   "cell_type": "code",
   "execution_count": 17,
   "metadata": {},
   "outputs": [
    {
     "data": {
      "text/html": [
       "<div>\n",
       "<style scoped>\n",
       "    .dataframe tbody tr th:only-of-type {\n",
       "        vertical-align: middle;\n",
       "    }\n",
       "\n",
       "    .dataframe tbody tr th {\n",
       "        vertical-align: top;\n",
       "    }\n",
       "\n",
       "    .dataframe thead th {\n",
       "        text-align: right;\n",
       "    }\n",
       "</style>\n",
       "<table border=\"1\" class=\"dataframe\">\n",
       "  <thead>\n",
       "    <tr style=\"text-align: right;\">\n",
       "      <th></th>\n",
       "      <th>Time</th>\n",
       "      <th>XPos</th>\n",
       "      <th>YPos</th>\n",
       "      <th>ZPos</th>\n",
       "    </tr>\n",
       "  </thead>\n",
       "  <tbody>\n",
       "    <tr>\n",
       "      <th>0</th>\n",
       "      <td>0.000000</td>\n",
       "      <td>-1.60720</td>\n",
       "      <td>5.9385</td>\n",
       "      <td>7.2733</td>\n",
       "    </tr>\n",
       "    <tr>\n",
       "      <th>1</th>\n",
       "      <td>0.030212</td>\n",
       "      <td>-1.45740</td>\n",
       "      <td>6.0474</td>\n",
       "      <td>8.4310</td>\n",
       "    </tr>\n",
       "    <tr>\n",
       "      <th>2</th>\n",
       "      <td>0.060028</td>\n",
       "      <td>0.27241</td>\n",
       "      <td>4.6037</td>\n",
       "      <td>9.8066</td>\n",
       "    </tr>\n",
       "    <tr>\n",
       "      <th>3</th>\n",
       "      <td>0.093414</td>\n",
       "      <td>-0.10896</td>\n",
       "      <td>4.9033</td>\n",
       "      <td>8.1586</td>\n",
       "    </tr>\n",
       "    <tr>\n",
       "      <th>4</th>\n",
       "      <td>0.130590</td>\n",
       "      <td>-0.76274</td>\n",
       "      <td>5.5571</td>\n",
       "      <td>6.2381</td>\n",
       "    </tr>\n",
       "  </tbody>\n",
       "</table>\n",
       "</div>"
      ],
      "text/plain": [
       "       Time     XPos    YPos    ZPos\n",
       "0  0.000000 -1.60720  5.9385  7.2733\n",
       "1  0.030212 -1.45740  6.0474  8.4310\n",
       "2  0.060028  0.27241  4.6037  9.8066\n",
       "3  0.093414 -0.10896  4.9033  8.1586\n",
       "4  0.130590 -0.76274  5.5571  6.2381"
      ]
     },
     "execution_count": 17,
     "metadata": {},
     "output_type": "execute_result"
    }
   ],
   "source": [
    "accel_files[0].head()"
   ]
  },
  {
   "cell_type": "code",
   "execution_count": null,
   "metadata": {},
   "outputs": [],
   "source": []
  }
 ],
 "metadata": {
  "kernelspec": {
   "display_name": "Python 2",
   "language": "python",
   "name": "python2"
  },
  "language_info": {
   "codemirror_mode": {
    "name": "ipython",
    "version": 2
   },
   "file_extension": ".py",
   "mimetype": "text/x-python",
   "name": "python",
   "nbconvert_exporter": "python",
   "pygments_lexer": "ipython2",
   "version": "2.7.14"
  }
 },
 "nbformat": 4,
 "nbformat_minor": 2
}
