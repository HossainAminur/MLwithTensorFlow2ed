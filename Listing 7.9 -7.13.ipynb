{
 "cells": [
  {
   "cell_type": "code",
   "execution_count": 10,
   "metadata": {},
   "outputs": [],
   "source": [
    "import tensorflow as tf\n",
    "import numpy as np\n",
    "import matplotlib.pyplot as plt\n",
    "from sklearn import datasets\n",
    "import pickle"
   ]
  },
  {
   "cell_type": "code",
   "execution_count": 11,
   "metadata": {},
   "outputs": [],
   "source": [
    "def get_batch(X, size):\n",
    "    a = np.random.choice(len(X), size, replace=False)\n",
    "    return X[a]\n",
    "\n",
    "class Autoencoder:\n",
    "    def __init__(self, input_dim, hidden_dim, epoch=1000, batch_size=50, learning_rate=0.001):\n",
    "        self.epoch = epoch\n",
    "        self.batch_size = batch_size\n",
    "        self.learning_rate = learning_rate\n",
    "\n",
    "        x = tf.placeholder(dtype=tf.float32, shape=[None, input_dim])\n",
    "        with tf.name_scope('encode'):\n",
    "            weights = tf.Variable(tf.random_normal([input_dim, hidden_dim], dtype=tf.float32), name='weights')\n",
    "            biases = tf.Variable(tf.zeros([hidden_dim]), name='biases')\n",
    "            encoded = tf.nn.sigmoid(tf.matmul(x, weights) + biases)\n",
    "        with tf.name_scope('decode'):\n",
    "            weights = tf.Variable(tf.random_normal([hidden_dim, input_dim], dtype=tf.float32), name='weights')\n",
    "            biases = tf.Variable(tf.zeros([input_dim]), name='biases')\n",
    "            decoded = tf.matmul(encoded, weights) + biases\n",
    "\n",
    "        self.x = x\n",
    "        self.encoded = encoded\n",
    "        self.decoded = decoded\n",
    "\n",
    "        self.loss = tf.sqrt(tf.reduce_mean(tf.square(tf.subtract(self.x, self.decoded))))\n",
    "        self.train_op = tf.train.RMSPropOptimizer(self.learning_rate).minimize(self.loss)\n",
    "        \n",
    "        self.saver = tf.train.Saver()\n",
    "\n",
    "    def train(self, data):\n",
    "        with tf.Session() as sess:\n",
    "            sess.run(tf.global_variables_initializer())\n",
    "            for i in range(self.epoch):\n",
    "                for j in range(np.shape(data)[0] // self.batch_size):\n",
    "                    batch_data = get_batch(data, self.batch_size)\n",
    "                    l, _ = sess.run([self.loss, self.train_op], feed_dict={self.x: batch_data})\n",
    "                if i % 10 == 0:\n",
    "                    print('epoch {0}: loss = {1}'.format(i, l))\n",
    "                    self.saver.save(sess, './model.ckpt')\n",
    "            self.saver.save(sess, './model.ckpt')\n",
    "        \n",
    "    def test(self, data):\n",
    "        with tf.Session() as sess:\n",
    "            self.saver.restore(sess, './model.ckpt')\n",
    "            hidden, reconstructed = sess.run([self.encoded, self.decoded], feed_dict={self.x: data})\n",
    "        print('input', data)\n",
    "        print('compressed', hidden)\n",
    "        print('reconstructed', reconstructed)\n",
    "        return reconstructed"
   ]
  },
  {
   "cell_type": "code",
   "execution_count": 12,
   "metadata": {},
   "outputs": [],
   "source": [
    "def unpickle(file):\n",
    "    fo = open(file, 'rb')\n",
    "    dict = pickle.load(fo, encoding='latin1')\n",
    "    fo.close()\n",
    "    return dict"
   ]
  },
  {
   "cell_type": "code",
   "execution_count": 13,
   "metadata": {},
   "outputs": [],
   "source": [
    "def grayscale(a):\n",
    "    return a.reshape(a.shape[0], 3, 32, 32).mean(1).reshape(a.shape[0], -1)"
   ]
  },
  {
   "cell_type": "code",
   "execution_count": 14,
   "metadata": {},
   "outputs": [],
   "source": [
    "names = unpickle('./cifar-10-batches-py/batches.meta')['label_names']\n",
    "data, labels = [], []\n",
    "for i in range(1, 6):\n",
    "    filename = './cifar-10-batches-py/data_batch_' + str(i)\n",
    "    batch_data = unpickle(filename)\n",
    "    if len(data) > 0:\n",
    "        data = np.vstack((data, batch_data['data']))\n",
    "        labels = np.hstack((labels, batch_data['labels']))\n",
    "    else:\n",
    "        data = batch_data['data']\n",
    "        labels = batch_data['labels']"
   ]
  },
  {
   "cell_type": "code",
   "execution_count": 15,
   "metadata": {},
   "outputs": [],
   "source": [
    "data = grayscale(data)"
   ]
  },
  {
   "cell_type": "code",
   "execution_count": 16,
   "metadata": {},
   "outputs": [
    {
     "name": "stdout",
     "output_type": "stream",
     "text": [
      "(50000, 1024)\n",
      "[6 9 9 ... 9 1 1]\n"
     ]
    }
   ],
   "source": [
    "x = np.matrix(data)\n",
    "y = np.array(labels)\n",
    "print(np.shape(x))\n",
    "print(y)"
   ]
  },
  {
   "cell_type": "code",
   "execution_count": 17,
   "metadata": {},
   "outputs": [
    {
     "name": "stdout",
     "output_type": "stream",
     "text": [
      "Some examples of horse images we will feed to the autoencoder for training\n"
     ]
    },
    {
     "data": {
      "image/png": "[encoded data removed]",
      "text/plain": [
       "<Figure size 720x720 with 5 Axes>"
      ]
     },
     "metadata": {
      "needs_background": "light"
     },
     "output_type": "display_data"
    }
   ],
   "source": [
    "print('Some examples of horse images we will feed to the autoencoder for training')\n",
    "plt.rcParams['figure.figsize'] = (10, 10)\n",
    "num_examples = 5\n",
    "for i in range(num_examples):\n",
    "    horse_img = np.reshape(horse_x[i, :], (32, 32))\n",
    "    plt.subplot(1, num_examples, i+1)\n",
    "    plt.imshow(horse_img, cmap='Greys_r')\n",
    "plt.show()"
   ]
  },
  {
   "cell_type": "code",
   "execution_count": 8,
   "metadata": {},
   "outputs": [
    {
     "name": "stdout",
     "output_type": "stream",
     "text": [
      "(5000, 1024)\n",
      "WARNING:tensorflow:From /Users/mattmann/git/buildout.python/python-3.7/lib/python3.7/site-packages/tensorflow/python/framework/op_def_library.py:263: colocate_with (from tensorflow.python.framework.ops) is deprecated and will be removed in a future version.\n",
      "Instructions for updating:\n",
      "Colocations handled automatically by placer.\n",
      "epoch 0: loss = 124.2063217163086\n",
      "epoch 10: loss = 70.36408996582031\n",
      "epoch 20: loss = 54.105594635009766\n",
      "epoch 30: loss = 55.80134582519531\n",
      "epoch 40: loss = 58.49394226074219\n",
      "epoch 50: loss = 58.578514099121094\n",
      "epoch 60: loss = 54.74818420410156\n",
      "epoch 70: loss = 52.21837615966797\n",
      "epoch 80: loss = 54.82305145263672\n",
      "epoch 90: loss = 53.202938079833984\n",
      "epoch 100: loss = 51.3785285949707\n",
      "epoch 110: loss = 50.968116760253906\n",
      "epoch 120: loss = 51.98923873901367\n",
      "epoch 130: loss = 54.9954833984375\n",
      "epoch 140: loss = 49.85771942138672\n",
      "epoch 150: loss = 52.427764892578125\n",
      "epoch 160: loss = 53.32129669189453\n",
      "epoch 170: loss = 52.80445861816406\n",
      "epoch 180: loss = 48.695133209228516\n",
      "epoch 190: loss = 51.28738021850586\n",
      "epoch 200: loss = 51.97399139404297\n",
      "epoch 210: loss = 51.49654769897461\n",
      "epoch 220: loss = 48.032440185546875\n",
      "epoch 230: loss = 51.00764083862305\n",
      "epoch 240: loss = 49.16505432128906\n",
      "epoch 250: loss = 48.2224006652832\n",
      "epoch 260: loss = 48.74460220336914\n",
      "epoch 270: loss = 51.82242202758789\n",
      "epoch 280: loss = 49.05989074707031\n",
      "epoch 290: loss = 47.91545486450195\n",
      "epoch 300: loss = 50.38712692260742\n",
      "epoch 310: loss = 50.039363861083984\n",
      "epoch 320: loss = 49.08262252807617\n",
      "epoch 330: loss = 47.58477783203125\n",
      "epoch 340: loss = 49.734439849853516\n",
      "epoch 350: loss = 51.401668548583984\n",
      "epoch 360: loss = 48.285919189453125\n",
      "epoch 370: loss = 47.975685119628906\n",
      "epoch 380: loss = 48.14413833618164\n",
      "epoch 390: loss = 48.1711311340332\n",
      "epoch 400: loss = 49.462223052978516\n",
      "epoch 410: loss = 47.938323974609375\n",
      "epoch 420: loss = 50.83209228515625\n",
      "epoch 430: loss = 47.99699783325195\n",
      "epoch 440: loss = 48.85629653930664\n",
      "epoch 450: loss = 48.91676330566406\n",
      "epoch 460: loss = 45.97184753417969\n",
      "epoch 470: loss = 48.750980377197266\n",
      "epoch 480: loss = 51.03924560546875\n",
      "epoch 490: loss = 45.476985931396484\n",
      "epoch 500: loss = 47.48622512817383\n",
      "epoch 510: loss = 49.44510269165039\n",
      "epoch 520: loss = 50.00055694580078\n",
      "epoch 530: loss = 48.740352630615234\n",
      "epoch 540: loss = 47.5344352722168\n",
      "epoch 550: loss = 45.83872604370117\n",
      "epoch 560: loss = 48.31160354614258\n",
      "epoch 570: loss = 49.19510269165039\n",
      "epoch 580: loss = 48.95504379272461\n",
      "epoch 590: loss = 49.05412292480469\n",
      "epoch 600: loss = 48.248497009277344\n",
      "epoch 610: loss = 49.399776458740234\n",
      "epoch 620: loss = 50.201148986816406\n",
      "epoch 630: loss = 50.37188720703125\n",
      "epoch 640: loss = 47.94040298461914\n",
      "epoch 650: loss = 48.17999267578125\n",
      "epoch 660: loss = 47.156349182128906\n",
      "epoch 670: loss = 49.75603485107422\n",
      "epoch 680: loss = 49.816062927246094\n",
      "epoch 690: loss = 49.68620300292969\n",
      "epoch 700: loss = 48.9587287902832\n",
      "epoch 710: loss = 48.73256301879883\n",
      "epoch 720: loss = 49.05362319946289\n",
      "epoch 730: loss = 48.547119140625\n",
      "epoch 740: loss = 44.211875915527344\n",
      "epoch 750: loss = 49.29981994628906\n",
      "epoch 760: loss = 48.286949157714844\n",
      "epoch 770: loss = 48.417903900146484\n",
      "epoch 780: loss = 49.06023025512695\n",
      "epoch 790: loss = 48.384578704833984\n",
      "epoch 800: loss = 49.55804443359375\n",
      "epoch 810: loss = 46.69198226928711\n",
      "epoch 820: loss = 50.626712799072266\n",
      "epoch 830: loss = 47.831634521484375\n",
      "epoch 840: loss = 45.552284240722656\n",
      "epoch 850: loss = 47.630043029785156\n",
      "epoch 860: loss = 45.94380187988281\n",
      "epoch 870: loss = 48.90875244140625\n",
      "epoch 880: loss = 46.38197708129883\n",
      "epoch 890: loss = 47.1062126159668\n",
      "epoch 900: loss = 50.029415130615234\n",
      "epoch 910: loss = 45.77069091796875\n",
      "epoch 920: loss = 46.37159729003906\n",
      "epoch 930: loss = 50.002559661865234\n",
      "epoch 940: loss = 46.48710250854492\n",
      "epoch 950: loss = 50.12735366821289\n",
      "epoch 960: loss = 47.67246627807617\n",
      "epoch 970: loss = 49.73539733886719\n",
      "epoch 980: loss = 48.47209930419922\n",
      "epoch 990: loss = 48.03278732299805\n"
     ]
    }
   ],
   "source": [
    "horse_indices = np.where(y == 7)[0]\n",
    "horse_x = x[horse_indices]\n",
    "print(np.shape(horse_x))  # (5000, 3072)\n",
    "input_dim = np.shape(horse_x)[1]\n",
    "hidden_dim = 100\n",
    "ae = Autoencoder(input_dim, hidden_dim)\n",
    "ae.train(horse_x)"
   ]
  },
  {
   "cell_type": "code",
   "execution_count": null,
   "metadata": {},
   "outputs": [],
   "source": []
  }
 ],
 "metadata": {
  "kernelspec": {
   "display_name": "Python 3",
   "language": "python",
   "name": "python3"
  },
  "language_info": {
   "codemirror_mode": {
    "name": "ipython",
    "version": 3
   },
   "file_extension": ".py",
   "mimetype": "text/x-python",
   "name": "python",
   "nbconvert_exporter": "python",
   "pygments_lexer": "ipython3",
   "version": "3.7.0b1"
  }
 },
 "nbformat": 4,
 "nbformat_minor": 2
}
